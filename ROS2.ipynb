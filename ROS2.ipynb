{
 "cells": [
  {
   "cell_type": "markdown",
   "id": "50b27633-bf7a-422b-8bca-01fa1d925881",
   "metadata": {},
   "source": []
  },
  {
   "cell_type": "markdown",
   "id": "f3b7af61-b766-4d7c-a66b-67e6cd2a9eb0",
   "metadata": {},
   "source": []
  },
  {
   "cell_type": "markdown",
   "id": "4ea07d0e-6d18-4a9c-a594-75764cf917f7",
   "metadata": {},
   "source": []
  },
  {
   "cell_type": "markdown",
   "id": "60aecba2-9859-4f70-824a-5de257afde84",
   "metadata": {},
   "source": []
  }
 ],
 "metadata": {
  "kernelspec": {
   "display_name": "Python 3 (ipykernel)",
   "language": "python",
   "name": "python3"
  },
  "language_info": {
   "codemirror_mode": {
    "name": "ipython",
    "version": 3
   },
   "file_extension": ".py",
   "mimetype": "text/x-python",
   "name": "python",
   "nbconvert_exporter": "python",
   "pygments_lexer": "ipython3",
   "version": "3.10.12"
  }
 },
 "nbformat": 4,
 "nbformat_minor": 5
}
