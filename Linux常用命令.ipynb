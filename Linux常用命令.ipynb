{
 "cells": [
  {
   "cell_type": "markdown",
   "id": "fd4a4db6-26a3-4c58-be7d-b715b2e7b1d9",
   "metadata": {},
   "source": [
    "# 通用"
   ]
  },
  {
   "cell_type": "markdown",
   "id": "98043866-b141-4120-b80e-168e68d95161",
   "metadata": {},
   "source": [
    "``` bash\n",
    "history | grep git\n",
    "```"
   ]
  },
  {
   "cell_type": "markdown",
   "id": "0d6023ec-4deb-469a-ab7e-09f5679421d4",
   "metadata": {
    "jp-MarkdownHeadingCollapsed": true
   },
   "source": [
    "# SSH"
   ]
  },
  {
   "cell_type": "markdown",
   "id": "823dd9e6-bab4-4ff0-941b-c89a511c0972",
   "metadata": {},
   "source": [
    "```bash\n",
    "sudo apt install openssh-server\n",
    "\n",
    "ls ~/.ssh\n",
    "\n",
    "ssh-keygen -t ed25519 -C \"linjianqing1108@gmail.com\"\n",
    "\n",
    "$ cat ~/.ssh/id_ed25519.pub\n",
    "ssh-ed25519 AAAAC3NzaC1lZDI1NTE5AAAAIDe0SkSB985g/fqFZbws/fPSlfXV7oSxb7GAGljWMlnS linjianqing1108@gmail.com\n",
    "\n",
    "sudo systemctl status ssh\n",
    "ssh yyy@192.168.1.7\n",
    "```"
   ]
  },
  {
   "cell_type": "markdown",
   "id": "1b1698d7",
   "metadata": {
    "jp-MarkdownHeadingCollapsed": true
   },
   "source": [
    "# GIT"
   ]
  },
  {
   "cell_type": "markdown",
   "id": "22147483-eb21-4699-b3bf-bbee83e84289",
   "metadata": {},
   "source": [
    "```bash\n",
    "git clone git@codeup.aliyun.com:5f3f374f6207a1a8b17f933f/OasisCaliber.git\n",
    "\n",
    "git remote -v\n",
    "\n",
    "git fetch\n",
    "\n",
    "git pull origin master\n",
    "git pull --rebase origin master\n",
    "\n",
    "git push origin master \n",
    "\n",
    "git checkout master\n",
    "\n",
    "git log --oneline\n",
    "\n",
    "git reset --hard 5896023\n",
    "git rebase -i 66b63e7\n",
    "```"
   ]
  },
  {
   "cell_type": "markdown",
   "id": "a61df002-96fa-4e8f-92d6-0175c24027e5",
   "metadata": {},
   "source": [
    "# DOCKER"
   ]
  },
  {
   "cell_type": "markdown",
   "id": "5bf009f4-612a-4285-9a78-391d388a80f4",
   "metadata": {},
   "source": [
    "``` bash\n",
    "docker images\n",
    "docker ps\n",
    "docker ps -a\n",
    "\n",
    "docker build -f Dockerfile_18.04 -t rsfusion-image:18.04 .\n",
    "\n",
    "sudo docker run -dit \\\n",
    "    --gpus all \\\n",
    "    -e NVIDIA_DRIVER_CAPABILITIES=all \\\n",
    "    -e DISPLAY=$DISPLAY \\\n",
    "    -v /tmp/.X11-unix:/tmp/.X11-unix \\\n",
    "    -e TZ=Asia/Shanghai \\\n",
    "    -v /dev:/dev \\\n",
    "    -v /media:/media \\\n",
    "    -v /path/to/your/project:/path/to/your/catkin_ws \\\n",
    "    --network host \\\n",
    "    --privileged \\\n",
    "    --name=rsfusion_dev \\\n",
    "   rsfusion-image:18.04\n",
    "\n",
    "docker start rsfusion_dev\n",
    "docker exec -it rsfusion_dev /bin/bash\n",
    "docker stop rsfusion_dev\n",
    "docker rm rsfusion_dev\n",
    "\n",
    "docker commit rsfusion_dev rsfusion-image:250725\n",
    "docker save -o rsfusion250725.tar rsfusion-image:250725\n",
    "docker load -i rsfusion250725.tar\n",
    "docker rmi rsfusion-image:18.04\n",
    "docker system prune -af --volumes\n",
    "\n",
    "docker export 9d33403e04f9 -o /home/elliott/docker_tmp/caliber_dev.tar\n",
    "docker import\n",
    "```"
   ]
  },
  {
   "cell_type": "markdown",
   "id": "21a5f89c-5632-4396-952d-d67fca7863ac",
   "metadata": {},
   "source": [
    "# ROS"
   ]
  },
  {
   "cell_type": "markdown",
   "id": "3be259a6-5b69-4191-ba57-ed95f1869a4f",
   "metadata": {},
   "source": [
    "## ROS1"
   ]
  },
  {
   "cell_type": "markdown",
   "id": "c4dbdf93-aa7f-4710-bfc2-f4e598f33a2a",
   "metadata": {},
   "source": [
    "```bash\n",
    "source /opt/ros/melodic/setup.bash\n",
    "echo \"source /opt/ros/melodic/setup.bash\" >> ~/.bashrc\n",
    "source ~/.bashrc\n",
    "\n",
    "cd /path/to/your/catkin_ws\n",
    "catkin_init_workspace src\n",
    "\n",
    "rm -rf build devel\n",
    "catkin_make\n",
    "\n",
    "source /home/catkin_ws/devel/setup.bash\n",
    "\n",
    "rosrun bag2json bag_converter test.bag output/\n",
    "rosrun rslidar_sdk rslidar_sdk_node\n",
    "```"
   ]
  },
  {
   "cell_type": "markdown",
   "id": "48adcb51-0ed7-40d1-9b5b-e42325780f7e",
   "metadata": {},
   "source": []
  },
  {
   "cell_type": "markdown",
   "id": "404a532b-9c59-48b5-b40c-011c19c76fc4",
   "metadata": {},
   "source": [
    "```bash\n",
    "candump vcan0\n",
    "./X86_setAllCanUp.sh \n",
    "./replay.sh can0_CAN0_23.blf \n",
    "\n",
    "sudo mount -t nfs 192.168.1.8:/volume1/Documents /share\n",
    "\n",
    "```"
   ]
  },
  {
   "cell_type": "markdown",
   "id": "3c62e841-72b8-4392-b52c-8f21bdecdf30",
   "metadata": {},
   "source": []
  }
 ],
 "metadata": {
  "kernelspec": {
   "display_name": "Python 3 (ipykernel)",
   "language": "python",
   "name": "python3"
  },
  "language_info": {
   "codemirror_mode": {
    "name": "ipython",
    "version": 3
   },
   "file_extension": ".py",
   "mimetype": "text/x-python",
   "name": "python",
   "nbconvert_exporter": "python",
   "pygments_lexer": "ipython3",
   "version": "3.10.12"
  }
 },
 "nbformat": 4,
 "nbformat_minor": 5
}
