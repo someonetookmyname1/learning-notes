{
 "cells": [
  {
   "cell_type": "markdown",
   "id": "98043866-b141-4120-b80e-168e68d95161",
   "metadata": {},
   "source": [
    "查看指令记录\n",
    "\n",
    "| grep是什么东西"
   ]
  },
  {
   "cell_type": "markdown",
   "id": "5b55a78f-503f-4d8d-8297-6b36707988a2",
   "metadata": {},
   "source": [
    "指令快捷操作"
   ]
  },
  {
   "cell_type": "markdown",
   "id": "0d6023ec-4deb-469a-ab7e-09f5679421d4",
   "metadata": {},
   "source": [
    "ssh"
   ]
  },
  {
   "cell_type": "markdown",
   "id": "1b1698d7",
   "metadata": {},
   "source": []
  }
 ],
 "metadata": {
  "kernelspec": {
   "display_name": "Python 3 (ipykernel)",
   "language": "python",
   "name": "python3"
  },
  "language_info": {
   "codemirror_mode": {
    "name": "ipython",
    "version": 3
   },
   "file_extension": ".py",
   "mimetype": "text/x-python",
   "name": "python",
   "nbconvert_exporter": "python",
   "pygments_lexer": "ipython3",
   "version": "3.9.12"
  }
 },
 "nbformat": 4,
 "nbformat_minor": 5
}
