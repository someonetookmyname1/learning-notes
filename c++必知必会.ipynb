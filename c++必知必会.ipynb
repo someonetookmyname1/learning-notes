{
 "cells": [
  {
   "cell_type": "markdown",
   "id": "7f895d85-25bc-46a9-ad22-066d24f167a5",
   "metadata": {
    "jp-MarkdownHeadingCollapsed": true
   },
   "source": [
    "# H1 项目的构成和构建"
   ]
  },
  {
   "cell_type": "markdown",
   "id": "05065702-b969-4655-bfb2-7936faa6ffbc",
   "metadata": {},
   "source": [
    "## 项目元素"
   ]
  },
  {
   "cell_type": "markdown",
   "id": "17d7c450-b975-47e2-afa4-80aa68166ab8",
   "metadata": {},
   "source": [
    "1. **源代码文件**\n",
    "\n",
    "    源代码：用编程语言（如c++，c）写的人类可读的指令文本文件\n",
    "\n",
    "    1. 头文件（如.hpp、.h）\n",
    "  \n",
    "        声明函数签名、类结构（告诉编译器“某个东西存在”），但不含具体实现。\n",
    "      \n",
    "    3. 源文件（如.cpp、.c）\n",
    "  \n",
    "        定义（具体实现）函数、类成员函数、全局变量等，实现程序逻辑\n",
    "\n",
    "2. **库**\n",
    "\n",
    "    一堆预先编写好、编译好的、可以直接调用的代码集合，提供常用、复杂的功能，避免你“重复造轮子”（实现代码复用）\n",
    "\n",
    "    1. 静态库和动态库\n",
    "  \n",
    "       \n",
    "  \n",
    "    2. 标准库、第三方库和自己写的库\n",
    "| 类型           | 标准库                                   | 第三方库                                       | 自己写的库                       |\n",
    "|----------------|----------------------------------------|---------------------------------------------|--------------------------------|\n",
    "| **谁提供的**    | 语言官方（C++标准委员会）                | 其他开发者/公司（如Google的protobuf）          | 你自己                          |\n",
    "| **包含什么**    | 基础功能（字符串处理、文件操作等）        | 特定领域功能（网络请求、图形绘制等）            | 项目中重复使用的模块             |\n",
    "| **如何引用**    | `#include <iostream>`                   | `#include <openssl/md5.h>`                   | `#include \"mylib/utils.h\"`     |\n",
    "| **是否需要额外操作** | 直接使用（编译器自带）                  | 需下载安装并配置链接                          | 只需正确包含头文件               |\n",
    "| **例子**       | `vector`, `string`, `fstream`           | Boost, OpenCV, Qt                            | 自己封装的日志工具、数学工具      |\n",
    "\n",
    "\n",
    "\n",
    "\n",
    "3. **编译与链接**\n",
    "\n",
    "    "
   ]
  },
  {
   "cell_type": "markdown",
   "id": "3d827629-9850-4fef-be6e-19c35c7fb5af",
   "metadata": {},
   "source": []
  }
 ],
 "metadata": {
  "kernelspec": {
   "display_name": "Python 3 (ipykernel)",
   "language": "python",
   "name": "python3"
  },
  "language_info": {
   "codemirror_mode": {
    "name": "ipython",
    "version": 3
   },
   "file_extension": ".py",
   "mimetype": "text/x-python",
   "name": "python",
   "nbconvert_exporter": "python",
   "pygments_lexer": "ipython3",
   "version": "3.10.12"
  }
 },
 "nbformat": 4,
 "nbformat_minor": 5
}
