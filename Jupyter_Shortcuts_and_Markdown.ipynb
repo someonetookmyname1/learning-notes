{
 "cells": [
  {
   "cell_type": "markdown",
   "id": "87117077-d1c8-4725-abee-570666a85935",
   "metadata": {},
   "source": [
    "# Jupyter Notebook 高效使用指南：快捷键与 Markdown 语法"
   ]
  },
  {
   "cell_type": "markdown",
   "id": "e0f5bd5d-eefc-4956-bddd-dcf81ddb148c",
   "metadata": {},
   "source": [
    "## 常用快捷键大全"
   ]
  },
  {
   "cell_type": "markdown",
   "id": "f6c1f27a-bb9a-4296-b887-807000ca2c69",
   "metadata": {},
   "source": [
    "### 命令模式 (按 `Esc` 进入)"
   ]
  },
  {
   "cell_type": "markdown",
   "id": "8ebe875d-f80d-4247-9aed-13c4e45d6ae5",
   "metadata": {},
   "source": [
    "| 快捷键 | 功能说明 |\n",
    "|--------|----------|\n",
    "| `Enter` | 进入编辑模式 |\n",
    "| `Shift + Enter` | 执行当前单元格并选中下一个 |\n",
    "| `Ctrl + Enter` | 执行当前单元格 |\n",
    "| `Alt + Enter` | 执行当前单元格并在下方插入新单元格 |\n",
    "| `A` | 在当前单元格**上方**插入新单元格 |\n",
    "| `B` | 在当前单元格**下方**插入新单元格 |\n",
    "| `D, D` | 删除当前单元格 (连续按两次D) |\n",
    "| `Z` | 撤销删除单元格 |\n",
    "| `Y` | 将单元格转为代码类型 |\n",
    "| `M` | 将单元格转为 Markdown 类型 |\n",
    "| `1-6` | 将 Markdown 设为1-6级标题 |\n",
    "| `X` | 剪切选中单元格 |\n",
    "| `C` | 复制选中单元格 |\n",
    "| `V` | 在下方粘贴剪贴板的单元格 |\n",
    "| `Shift + V` | 在上方粘贴剪贴板的单元格 |\n",
    "| `F` | 查找和替换 |\n",
    "| `Shift + M` | 合并选中的单元格 |\n",
    "| `S` | 保存当前笔记本 |\n",
    "| `Ctrl + S` | 保存当前笔记本 |\n",
    "| `H` | 显示所有快捷键帮助 |\n"
   ]
  },
  {
   "cell_type": "markdown",
   "id": "63ca3c0b-80c9-4cd8-a00a-fcffd332fe9a",
   "metadata": {},
   "source": [
    "### 编辑模式 (按 `Enter` 进入)"
   ]
  },
  {
   "cell_type": "markdown",
   "id": "8ed03ca8-26a6-4ed2-9f1d-4c5c603ac108",
   "metadata": {},
   "source": [
    "| 快捷键 | 功能说明 |\n",
    "|--------|----------|\n",
    "| `Esc` | 退出编辑模式到命令模式 |\n",
    "| `Tab` | 代码补全或缩进 |\n",
    "| `Shift + Tab` | 显示函数签名 (按多次显示更多) |\n",
    "| `Ctrl + Z` | 撤销操作 |\n",
    "| `Ctrl + Shift + Z` | 恢复操作 |\n",
    "| `Ctrl + /` | 注释/取消注释当前行 |\n",
    "| `Ctrl + A` | 全选单元格内容 |\n",
    "| `Ctrl + ↑` | 移动到当前单元格开头 |\n",
    "| `Ctrl + ↓` | 移动到当前单元格结尾 |\n",
    "| `Alt + ←` | 向左移动一个单词 |\n",
    "| `Alt + →` | 向右移动一个单词 |"
   ]
  },
  {
   "cell_type": "markdown",
   "id": "fa2649c7-6004-491d-a91e-f122cb2763d3",
   "metadata": {},
   "source": [
    "## Markdown 基本语法全解"
   ]
  },
  {
   "cell_type": "markdown",
   "id": "197a8fb8-1b6b-4884-8ed0-c5fa6b6f69ed",
   "metadata": {},
   "source": [
    "### 标题"
   ]
  },
  {
   "cell_type": "markdown",
   "id": "cd755e9d-9583-4e07-8b52-7019d9b95463",
   "metadata": {},
   "source": [
    "```markdown\n",
    "# 一级标题 (最大)\n",
    "## 二级标题\n",
    "### 三级标题\n",
    "#### 四级标题\n",
    "##### 五级标题\n",
    "###### 六级标题 (最小)\n",
    "```"
   ]
  },
  {
   "cell_type": "markdown",
   "id": "4e799aa4-af93-4c3d-9126-43388fb63f00",
   "metadata": {},
   "source": [
    "### 文本样式"
   ]
  },
  {
   "cell_type": "markdown",
   "id": "6489d3bd-d195-4311-88a3-a8b2fd1585c5",
   "metadata": {},
   "source": [
    "```markdown\n",
    "*斜体文本* 或 _斜体文本_\n",
    "**粗体文本** 或 __粗体文本__\n",
    "**_粗斜体文本_** 或 __*粗斜体文本*\n",
    "~~删除线文本~~\n",
    "`行内代码`\n",
    "```"
   ]
  },
  {
   "cell_type": "markdown",
   "id": "5fd242cc-6894-45a7-b04f-e652e4cbc998",
   "metadata": {},
   "source": [
    "### 列表"
   ]
  },
  {
   "cell_type": "markdown",
   "id": "7ddc09da-c576-4afe-8434-0389e701bb1e",
   "metadata": {},
   "source": [
    "```markdown\n",
    "- 无序列表项1\n",
    "- 无序列表项2\n",
    "  - 嵌套列表项1\n",
    "  - 嵌套列表项2\n",
    "\n",
    "1. 有序列表项1\n",
    "2. 有序列表项2\n",
    "   1. 嵌套有序列表1\n",
    "   2. 嵌套有序列表2\n",
    "```"
   ]
  },
  {
   "cell_type": "markdown",
   "id": "3e58d260-4fa7-4333-adca-bbde1a19f8ac",
   "metadata": {},
   "source": [
    "### 链接与图片"
   ]
  },
  {
   "cell_type": "markdown",
   "id": "e5091e5e-5d36-4b72-acd0-b26b88544f2d",
   "metadata": {},
   "source": [
    "```markdown\n",
    "[文字链接](https://example.com)\n",
    "![图片描述](图片URL或本地路径)\n",
    "\n",
    "[自动编号链接][1]\n",
    "[1]: https://example.com\n",
    "```"
   ]
  },
  {
   "cell_type": "markdown",
   "id": "d0a34edb-c3a5-4b0b-a2d0-e2e0b4c278d9",
   "metadata": {},
   "source": [
    "### 代码块"
   ]
  },
  {
   "cell_type": "markdown",
   "id": "1591786b-dc37-409f-b67c-c60187371dc2",
   "metadata": {
    "jp-MarkdownHeadingCollapsed": true
   },
   "source": [
    "````markdown\n",
    "```python\n",
    "# Python代码块\n",
    "def function():\n",
    "    print(\"Hello World\")\n",
    "```\n",
    "\n",
    "```javascript\n",
    "// JavaScript代码块\n",
    "console.log(\"Hello World\");\n",
    "```\n",
    "````"
   ]
  },
  {
   "cell_type": "markdown",
   "id": "689333f6-b329-4781-93d4-9d1ccebf23bf",
   "metadata": {},
   "source": [
    "### 表格"
   ]
  },
  {
   "cell_type": "markdown",
   "id": "8d3dcb84-44f0-4c45-a507-aed24669e1cc",
   "metadata": {},
   "source": [
    "```markdown\n",
    "| 列标题1     | 列标题2      | 列标题3 |\n",
    "|------------|-------------|--------|\n",
    "| 单元格内容1 | 单元格内容2  | 内容3  |\n",
    "| 左对齐      | 居中         | 右对齐 |\n",
    "| :---       | :----:      | ---:   |\n",
    "```"
   ]
  },
  {
   "cell_type": "markdown",
   "id": "070d8f43-18de-4ae0-b302-6a6b11907c62",
   "metadata": {},
   "source": [
    "### 分割线与引用"
   ]
  },
  {
   "cell_type": "markdown",
   "id": "bb98d5a3-892d-4e78-945b-eb627f4b192f",
   "metadata": {},
   "source": [
    "```markdown\n",
    "---  或  ***  (水平分割线)\n",
    "\n",
    "> 引用文本\n",
    "> > 嵌套引用\n",
    "```"
   ]
  },
  {
   "cell_type": "markdown",
   "id": "6e84e2b8-e6b7-4194-82eb-e38e321c5ea5",
   "metadata": {},
   "source": [
    "### LaTeX 数学公式"
   ]
  },
  {
   "cell_type": "markdown",
   "id": "6f70a4a9-c2c1-4c61-83e5-6143e33af165",
   "metadata": {},
   "source": [
    "```markdown\n",
    "行内公式: $E=mc^2$\n",
    "\n",
    "块公式:\n",
    "$$\n",
    "\\sum_{i=1}^{n} i = \\frac{n(n+1)}{2}\n",
    "$$\n",
    "```"
   ]
  },
  {
   "cell_type": "markdown",
   "id": "c6912093-fe0b-4852-9244-a36fa8847ac1",
   "metadata": {
    "jp-MarkdownHeadingCollapsed": true
   },
   "source": [
    "### HTML元素"
   ]
  },
  {
   "cell_type": "markdown",
   "id": "0cbcfc6f-185a-4fc1-a53c-61c92644c717",
   "metadata": {},
   "source": [
    "```markdown\n",
    "<font color=\"red\">红色文本</font>\n",
    "<details>\n",
    "<summary>点击查看详情</summary>\n",
    "隐藏内容在这里\n",
    "</details>\n",
    "```"
   ]
  },
  {
   "cell_type": "markdown",
   "id": "3d37486b-0c4e-4415-aac5-6c915d1589c8",
   "metadata": {
    "jp-MarkdownHeadingCollapsed": true
   },
   "source": [
    "### 特殊技巧"
   ]
  },
  {
   "cell_type": "markdown",
   "id": "e782d142-c7e6-4352-a503-12b004f59ef9",
   "metadata": {},
   "source": [
    "```markdown\n",
    "<!-- HTML注释在输出中不可见 -->\n",
    "\n",
    "[//]: # (Markdown注释方法)\n",
    "```"
   ]
  },
  {
   "cell_type": "markdown",
   "id": "0b4b6ba1-0da4-4424-8f9f-c91b4e550f2b",
   "metadata": {
    "jp-MarkdownHeadingCollapsed": true
   },
   "source": [
    "## 实用组合技巧"
   ]
  },
  {
   "cell_type": "markdown",
   "id": "fa442f0a",
   "metadata": {},
   "source": [
    "1. **快速创建文档结构**\n",
    "   ```markdown\n",
    "   # 文档标题\n",
    "   [TOC]\n",
    "   ## 章节1\n",
    "   ### 子章节1.1\n",
    "   ```\n",
    "\n",
    "2. **在 Markdown 中嵌入 Python 代码**\n",
    "   ````markdown\n",
    "   示例代码：\n",
    "   ```python\n",
    "   import numpy as np\n",
    "   print(np.pi)\n",
    "   ```\n",
    "   执行结果：\n",
    "   ```\n",
    "   3.141592653589793\n",
    "   ```\n",
    "   ````\n",
    "\n",
    "3. **快捷键组合工作流**\n",
    "   - `M` → 转为Markdown → 编辑内容 → `Shift+Enter` 渲染\n",
    "   - `A` 或 `B` → 快速插入单元格\n",
    "   - `Ctrl+↑` → 到单元格开头 → `## ` → 设为二级标题 → `Shift+Enter` 渲染\n",
    "\n",
    "4. **高效数学公式输入**\n",
    "   - 希腊字母：`\\alpha`, `\\beta`, `\\gamma`\n",
    "   - 运算符：`\\sum`, `\\prod`, `\\int`\n",
    "   - 分数：`\\frac{分子}{分母}`\n",
    "   - 矩阵：`\\begin{matrix} 1 & 2 \\\\ 3 & 4 \\end{matrix}`\n",
    "\n",
    "5. **扩展功能**\n",
    "   - 在 Markdown 单元格使用 HTML/CSS 添加样式\n",
    "   - 使用 `%%latex` 魔法命令创建复杂公式\n",
    "   - 添加目录功能：`!pip install jupyter_contrib_nbextensions` → 启用 Table of Contents (TOC)\n"
   ]
  }
 ],
 "metadata": {
  "kernelspec": {
   "display_name": "Python 3 (ipykernel)",
   "language": "python",
   "name": "python3"
  },
  "language_info": {
   "codemirror_mode": {
    "name": "ipython",
    "version": 3
   },
   "file_extension": ".py",
   "mimetype": "text/x-python",
   "name": "python",
   "nbconvert_exporter": "python",
   "pygments_lexer": "ipython3",
   "version": "3.10.12"
  }
 },
 "nbformat": 4,
 "nbformat_minor": 5
}
